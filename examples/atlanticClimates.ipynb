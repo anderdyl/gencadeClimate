{
 "cells": [
  {
   "cell_type": "code",
   "execution_count": null,
   "id": "3846293f-4c8c-4aad-b952-a1b8b3e8cdaf",
   "metadata": {},
   "outputs": [],
   "source": [
    "import os\n",
    "import sys\n",
    "sys.path.insert(0, '/Users/dylananderson/Documents/projects/gencadeClimate/')\n",
    "\n",
    "from climateIndices import climateIndices\n",
    "\n",
    "test = climateIndices(awtStart=1880,awtEnd=2023)\n",
    "test.atlanticAWT(plotOutput=True)"
   ]
  },
  {
   "cell_type": "code",
   "execution_count": null,
   "id": "410762b3-eb22-4542-8288-8229d700ebb2",
   "metadata": {},
   "outputs": [],
   "source": [
    "test.mjo(historicalSimNum=100,futureSimNum=100,loadPrevious=False,plotOutput=True)"
   ]
  },
  {
   "cell_type": "code",
   "execution_count": null,
   "id": "b5cdf313-82b2-4c62-9545-233495547cd5",
   "metadata": {},
   "outputs": [],
   "source": []
  }
 ],
 "metadata": {
  "kernelspec": {
   "display_name": "gencadeClimate",
   "language": "python",
   "name": "python3"
  },
  "language_info": {
   "codemirror_mode": {
    "name": "ipython",
    "version": 3
   },
   "file_extension": ".py",
   "mimetype": "text/x-python",
   "name": "python",
   "nbconvert_exporter": "python",
   "pygments_lexer": "ipython3",
   "version": "3.10.8"
  }
 },
 "nbformat": 4,
 "nbformat_minor": 5
}
