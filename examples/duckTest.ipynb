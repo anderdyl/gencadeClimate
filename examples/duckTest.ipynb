{
 "cells": [
  {
   "cell_type": "code",
   "execution_count": null,
   "id": "c33a6062",
   "metadata": {},
   "outputs": [],
   "source": [
    "import os\n",
    "import sys\n",
    "sys.path.insert(0, '/Users/dylananderson/Documents/projects/gencadeClimate/')\n",
    "\n",
    "from climateIndices import climateIndices\n",
    "\n",
    "duckClimate = climateIndices(awtStart=1880,awtEnd=2024)\n",
    "duckClimate.atlanticAWT(plotOutput=True)\n",
    "duckClimate.mjo(historicalSimNum=100,futureSimNum=100,loadPrevious=False,plotOutput=True)\n"
   ]
  },
  {
   "cell_type": "code",
   "execution_count": null,
   "id": "c947a9ed",
   "metadata": {},
   "outputs": [],
   "source": [
    "from weatherTypes import weatherTypes\n",
    "import plotting\n",
    "\n",
    "slpPath = '/volumes/macDrive/prmsl/'\n",
    "\n",
    "startTime = [1979, 1, 1]\n",
    "endTime = [2024, 6, 1]\n",
    "\n",
    "duckSlps = weatherTypes(slpPath=slpPath,startTime=startTime,endTime=endTime)\n",
    "duckSlps.extractCFSR(printToScreen=False)\n",
    "plotting.plotSlpExample(struct=duckSlps)"
   ]
  },
  {
   "cell_type": "code",
   "execution_count": null,
   "id": "cf9450e7",
   "metadata": {},
   "outputs": [],
   "source": [
    "duckSlps.pcaOfSlps()\n",
    "plotting.plotEOFs(struct=duckSlps)"
   ]
  },
  {
   "cell_type": "code",
   "execution_count": null,
   "id": "fa186790",
   "metadata": {},
   "outputs": [],
   "source": [
    "duckSlps.wtClusters(numClusters=49,TCs=True,Basin=b'NA')\n",
    "plotting.plotWTs(struct=duckSlps)\n",
    "plotting.plotSeasonal(struct=duckSlps)"
   ]
  },
  {
   "cell_type": "code",
   "execution_count": null,
   "id": "cf7617d4",
   "metadata": {},
   "outputs": [],
   "source": [
    "from metOcean import getMetOcean\n",
    "wisPath = '/volumes/macDrive/WIS63218/'\n",
    "wlPath = '/users/dylananderson/documents/data/frfWaterLevel/'\n",
    "duckMET = getMetOcean(wlPath=wlPath,wisPath=wisPath,startTime=startTime,endTime=endTime)\n",
    "duckMET.getWISLocal()\n",
    "duckMET.getWaterLevels()\n",
    "plotting.plotOceanConditions(struct=duckMET)"
   ]
  },
  {
   "cell_type": "code",
   "execution_count": null,
   "id": "11de88cb",
   "metadata": {},
   "outputs": [],
   "source": [
    "duckSlps.separateHistoricalHydrographs(duckMET,numRealizations=100,shoreNorm=72)\n",
    "duckSlps.metOceanCopulas()"
   ]
  }
 ],
 "metadata": {
  "kernelspec": {
   "display_name": "gencadeClimate",
   "language": "python",
   "name": "python3"
  },
  "language_info": {
   "codemirror_mode": {
    "name": "ipython",
    "version": 3
   },
   "file_extension": ".py",
   "mimetype": "text/x-python",
   "name": "python",
   "nbconvert_exporter": "python",
   "pygments_lexer": "ipython3",
   "version": "3.10.11"
  }
 },
 "nbformat": 4,
 "nbformat_minor": 5
}
